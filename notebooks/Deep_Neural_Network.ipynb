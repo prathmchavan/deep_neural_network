{
  "cells": [
    {
      "cell_type": "code",
      "execution_count": 49,
      "metadata": {
        "id": "nA99tqH5iQzp"
      },
      "outputs": [],
      "source": [
        "import pandas as pd\n",
        "import numpy as np\n",
        "import tensorflow as tf\n",
        "from sklearn.model_selection import train_test_split\n",
        "from sklearn.preprocessing import LabelEncoder, StandardScaler\n",
        "from sklearn.metrics import classification_report, accuracy_score\n",
        "from sklearn.utils import class_weight"
      ]
    },
    {
      "cell_type": "code",
      "execution_count": 50,
      "metadata": {
        "colab": {
          "base_uri": "https://localhost:8080/"
        },
        "id": "b93snBENi9rt",
        "outputId": "8c4a0701-e0da-4a74-f23a-41be1b2379d9"
      },
      "outputs": [
        {
          "name": "stdout",
          "output_type": "stream",
          "text": [
            "Unique values in 'class' column: [0 1]\n"
          ]
        },
        {
          "name": "stderr",
          "output_type": "stream",
          "text": [
            "C:\\Users\\systempc\\AppData\\Local\\Temp\\ipykernel_12652\\546123116.py:5: FutureWarning: Downcasting behavior in `replace` is deprecated and will be removed in a future version. To retain the old behavior, explicitly call `result.infer_objects(copy=False)`. To opt-in to the future behavior, set `pd.set_option('future.no_silent_downcasting', True)`\n",
            "  df['class'] = df['class'].replace(['r'], 1)\n"
          ]
        }
      ],
      "source": [
        "df = pd.read_csv(\"../data/instagram.csv\")\n",
        "df['class'] = df['class'].replace(['a', 'i', 's'], 'f')\n",
        "df = df.sample(frac=1, random_state=42).reset_index(drop=True)\n",
        "df['class'] = df['class'].replace(['f'], 0)\n",
        "df['class'] = df['class'].replace(['r'], 1)\n",
        "print(\"Unique values in 'class' column:\", df['class'].unique())"
      ]
    },
    {
      "cell_type": "code",
      "execution_count": 51,
      "metadata": {
        "colab": {
          "base_uri": "https://localhost:8080/"
        },
        "id": "A5rtDIeii_Uq",
        "outputId": "47587fb7-9888-424a-f582-b645829986e0"
      },
      "outputs": [
        {
          "name": "stdout",
          "output_type": "stream",
          "text": [
            "    pos   flw   flg  bl  pic  lin    cl        cz     ni        erl   erc  \\\n",
            "0   120   126   740  69    1    0  1036  0.055556  0.111   8.600000  0.66   \n",
            "1  1200   800  2800  91    1    1   381  0.000000  0.556   0.550000  0.03   \n",
            "2     0     1    38   0    0    0     0  0.000000  0.000   0.000000  0.00   \n",
            "3    49   297   275  44    1    1    36  0.222222  0.000  19.230000  0.58   \n",
            "4     1  1800  7500   0    1    0   165  0.000000  0.000  29.780001  1.83   \n",
            "\n",
            "      lt     hc     pr     fo        cs          pi  class  \n",
            "0  0.000  0.556  0.667  0.278  0.173787  113.461594      0  \n",
            "1  0.000  0.000  0.000  0.000  0.189783    7.124306      1  \n",
            "2  0.000  0.000  0.000  0.000  1.000000    0.000000      0  \n",
            "3  0.889  0.389  0.000  0.056  0.052664  111.983299      1  \n",
            "4  0.000  0.000  0.000  0.000  0.000000    0.000000      0  \n"
          ]
        }
      ],
      "source": [
        "print(df.head())"
      ]
    },
    {
      "cell_type": "code",
      "execution_count": 52,
      "metadata": {
        "id": "MvYuMzRMjBPP"
      },
      "outputs": [],
      "source": [
        "X = df.drop('class', axis=1)\n",
        "y = df['class']"
      ]
    },
    {
      "cell_type": "code",
      "execution_count": 53,
      "metadata": {
        "id": "nph6Q5DijESS"
      },
      "outputs": [],
      "source": [
        "scaler = StandardScaler()\n",
        "X_scaled = scaler.fit_transform(X)"
      ]
    },
    {
      "cell_type": "code",
      "execution_count": 54,
      "metadata": {
        "id": "nEY8qE8UjF6O"
      },
      "outputs": [],
      "source": [
        "X_train, X_test, y_train, y_test = train_test_split(X_scaled, y, test_size=0.2, random_state=42)"
      ]
    },
    {
      "cell_type": "code",
      "execution_count": 55,
      "metadata": {
        "colab": {
          "base_uri": "https://localhost:8080/"
        },
        "id": "DgYwfX0pkNjV",
        "outputId": "99cbec30-2694-4ce3-8268-8f1bb3127e2c"
      },
      "outputs": [
        {
          "name": "stdout",
          "output_type": "stream",
          "text": [
            "Class weights: {0: np.float64(0.8278524503511289), 1: np.float64(1.262538147060517)}\n"
          ]
        }
      ],
      "source": [
        "from sklearn.utils import class_weight\n",
        "\n",
        "# Compute class weights explicitly for classes 0 and 1\n",
        "class_weights = class_weight.compute_class_weight(\n",
        "    class_weight='balanced',\n",
        "    classes=np.array([0, 1]),\n",
        "    y=y_train\n",
        ")\n",
        "\n",
        "# Explicitly define the dictionary with keys 0 and 1\n",
        "class_weights_dict = {0: class_weights[0], 1: class_weights[1]}\n",
        "print(\"Class weights:\", class_weights_dict)"
      ]
    },
    {
      "cell_type": "code",
      "execution_count": 56,
      "metadata": {
        "colab": {
          "base_uri": "https://localhost:8080/"
        },
        "id": "IL17dvDvjH6U",
        "outputId": "ee213fe6-2d38-42ed-853f-e562cafeec04"
      },
      "outputs": [
        {
          "name": "stderr",
          "output_type": "stream",
          "text": [
            "C:\\Users\\systempc\\AppData\\Roaming\\Python\\Python312\\site-packages\\keras\\src\\layers\\core\\input_layer.py:26: UserWarning: Argument `input_shape` is deprecated. Use `shape` instead.\n",
            "  warnings.warn(\n"
          ]
        }
      ],
      "source": [
        "model = tf.keras.models.Sequential([\n",
        "    tf.keras.layers.InputLayer(input_shape=(X_train.shape[1],)),\n",
        "    tf.keras.layers.Dense(64, activation='relu'),\n",
        "    tf.keras.layers.Dropout(0.5),\n",
        "    tf.keras.layers.Dense(32, activation='relu'),\n",
        "    tf.keras.layers.Dropout(0.5),\n",
        "    tf.keras.layers.Dense(16, activation='relu'),\n",
        "    tf.keras.layers.Dense(1, activation='sigmoid')\n",
        "])"
      ]
    },
    {
      "cell_type": "code",
      "execution_count": 57,
      "metadata": {
        "id": "9ljBk4r8jJxu"
      },
      "outputs": [],
      "source": [
        "model.compile(optimizer='adam', loss='binary_crossentropy', metrics=['accuracy'])"
      ]
    },
    {
      "cell_type": "code",
      "execution_count": 58,
      "metadata": {
        "id": "ib9JzIH8kdNN"
      },
      "outputs": [],
      "source": [
        "# early_stopping = tf.keras.callbacks.EarlyStopping(monitor='val_loss', patience=5, restore_best_weights=True)"
      ]
    },
    {
      "cell_type": "code",
      "execution_count": 59,
      "metadata": {
        "colab": {
          "base_uri": "https://localhost:8080/"
        },
        "id": "Dl8bvQK7kt11",
        "outputId": "b6ce5c1e-c145-4283-a5da-b3482e33e1e9"
      },
      "outputs": [
        {
          "name": "stdout",
          "output_type": "stream",
          "text": [
            "Unique classes in y_train: [0 1]\n"
          ]
        }
      ],
      "source": [
        "print(\"Unique classes in y_train:\", np.unique(y_train))"
      ]
    },
    {
      "cell_type": "code",
      "execution_count": 60,
      "metadata": {
        "colab": {
          "base_uri": "https://localhost:8080/"
        },
        "id": "k8cMRmG4jL2y",
        "outputId": "1866fd4f-282e-4c0a-a670-625fee494d27"
      },
      "outputs": [
        {
          "name": "stdout",
          "output_type": "stream",
          "text": [
            "Epoch 1/50\n",
            "\u001b[1m2193/2193\u001b[0m \u001b[32m━━━━━━━━━━━━━━━━━━━━\u001b[0m\u001b[37m\u001b[0m \u001b[1m3s\u001b[0m 963us/step - accuracy: 0.7301 - loss: 0.5256 - val_accuracy: 0.8294 - val_loss: 0.3766\n",
            "Epoch 2/50\n",
            "\u001b[1m2193/2193\u001b[0m \u001b[32m━━━━━━━━━━━━━━━━━━━━\u001b[0m\u001b[37m\u001b[0m \u001b[1m2s\u001b[0m 968us/step - accuracy: 0.8232 - loss: 0.3934 - val_accuracy: 0.8500 - val_loss: 0.3273\n",
            "Epoch 3/50\n",
            "\u001b[1m2193/2193\u001b[0m \u001b[32m━━━━━━━━━━━━━━━━━━━━\u001b[0m\u001b[37m\u001b[0m \u001b[1m2s\u001b[0m 866us/step - accuracy: 0.8375 - loss: 0.3510 - val_accuracy: 0.8556 - val_loss: 0.3069\n",
            "Epoch 4/50\n",
            "\u001b[1m2193/2193\u001b[0m \u001b[32m━━━━━━━━━━━━━━━━━━━━\u001b[0m\u001b[37m\u001b[0m \u001b[1m2s\u001b[0m 854us/step - accuracy: 0.8454 - loss: 0.3307 - val_accuracy: 0.8608 - val_loss: 0.2953\n",
            "Epoch 5/50\n",
            "\u001b[1m2193/2193\u001b[0m \u001b[32m━━━━━━━━━━━━━━━━━━━━\u001b[0m\u001b[37m\u001b[0m \u001b[1m2s\u001b[0m 870us/step - accuracy: 0.8521 - loss: 0.3172 - val_accuracy: 0.8621 - val_loss: 0.2911\n",
            "Epoch 6/50\n",
            "\u001b[1m2193/2193\u001b[0m \u001b[32m━━━━━━━━━━━━━━━━━━━━\u001b[0m\u001b[37m\u001b[0m \u001b[1m2s\u001b[0m 882us/step - accuracy: 0.8511 - loss: 0.3161 - val_accuracy: 0.8620 - val_loss: 0.2899\n",
            "Epoch 7/50\n",
            "\u001b[1m2193/2193\u001b[0m \u001b[32m━━━━━━━━━━━━━━━━━━━━\u001b[0m\u001b[37m\u001b[0m \u001b[1m2s\u001b[0m 853us/step - accuracy: 0.8536 - loss: 0.3067 - val_accuracy: 0.8638 - val_loss: 0.2851\n",
            "Epoch 8/50\n",
            "\u001b[1m2193/2193\u001b[0m \u001b[32m━━━━━━━━━━━━━━━━━━━━\u001b[0m\u001b[37m\u001b[0m \u001b[1m2s\u001b[0m 867us/step - accuracy: 0.8562 - loss: 0.3069 - val_accuracy: 0.8660 - val_loss: 0.2837\n",
            "Epoch 9/50\n",
            "\u001b[1m2193/2193\u001b[0m \u001b[32m━━━━━━━━━━━━━━━━━━━━\u001b[0m\u001b[37m\u001b[0m \u001b[1m2s\u001b[0m 855us/step - accuracy: 0.8552 - loss: 0.3037 - val_accuracy: 0.8641 - val_loss: 0.2829\n",
            "Epoch 10/50\n",
            "\u001b[1m2193/2193\u001b[0m \u001b[32m━━━━━━━━━━━━━━━━━━━━\u001b[0m\u001b[37m\u001b[0m \u001b[1m2s\u001b[0m 882us/step - accuracy: 0.8558 - loss: 0.3009 - val_accuracy: 0.8647 - val_loss: 0.2824\n",
            "Epoch 11/50\n",
            "\u001b[1m2193/2193\u001b[0m \u001b[32m━━━━━━━━━━━━━━━━━━━━\u001b[0m\u001b[37m\u001b[0m \u001b[1m2s\u001b[0m 861us/step - accuracy: 0.8540 - loss: 0.3028 - val_accuracy: 0.8669 - val_loss: 0.2802\n",
            "Epoch 12/50\n",
            "\u001b[1m2193/2193\u001b[0m \u001b[32m━━━━━━━━━━━━━━━━━━━━\u001b[0m\u001b[37m\u001b[0m \u001b[1m2s\u001b[0m 888us/step - accuracy: 0.8577 - loss: 0.2971 - val_accuracy: 0.8674 - val_loss: 0.2750\n",
            "Epoch 13/50\n",
            "\u001b[1m2193/2193\u001b[0m \u001b[32m━━━━━━━━━━━━━━━━━━━━\u001b[0m\u001b[37m\u001b[0m \u001b[1m2s\u001b[0m 921us/step - accuracy: 0.8577 - loss: 0.2952 - val_accuracy: 0.8647 - val_loss: 0.2735\n",
            "Epoch 14/50\n",
            "\u001b[1m2193/2193\u001b[0m \u001b[32m━━━━━━━━━━━━━━━━━━━━\u001b[0m\u001b[37m\u001b[0m \u001b[1m2s\u001b[0m 911us/step - accuracy: 0.8574 - loss: 0.2938 - val_accuracy: 0.8659 - val_loss: 0.2746\n",
            "Epoch 15/50\n",
            "\u001b[1m2193/2193\u001b[0m \u001b[32m━━━━━━━━━━━━━━━━━━━━\u001b[0m\u001b[37m\u001b[0m \u001b[1m3s\u001b[0m 1ms/step - accuracy: 0.8576 - loss: 0.2926 - val_accuracy: 0.8692 - val_loss: 0.2743\n",
            "Epoch 16/50\n",
            "\u001b[1m2193/2193\u001b[0m \u001b[32m━━━━━━━━━━━━━━━━━━━━\u001b[0m\u001b[37m\u001b[0m \u001b[1m3s\u001b[0m 1ms/step - accuracy: 0.8587 - loss: 0.2927 - val_accuracy: 0.8704 - val_loss: 0.2706\n",
            "Epoch 17/50\n",
            "\u001b[1m2193/2193\u001b[0m \u001b[32m━━━━━━━━━━━━━━━━━━━━\u001b[0m\u001b[37m\u001b[0m \u001b[1m3s\u001b[0m 1ms/step - accuracy: 0.8599 - loss: 0.2915 - val_accuracy: 0.8718 - val_loss: 0.2679\n",
            "Epoch 18/50\n",
            "\u001b[1m2193/2193\u001b[0m \u001b[32m━━━━━━━━━━━━━━━━━━━━\u001b[0m\u001b[37m\u001b[0m \u001b[1m3s\u001b[0m 2ms/step - accuracy: 0.8589 - loss: 0.2914 - val_accuracy: 0.8699 - val_loss: 0.2673\n",
            "Epoch 19/50\n",
            "\u001b[1m2193/2193\u001b[0m \u001b[32m━━━━━━━━━━━━━━━━━━━━\u001b[0m\u001b[37m\u001b[0m \u001b[1m3s\u001b[0m 2ms/step - accuracy: 0.8620 - loss: 0.2857 - val_accuracy: 0.8699 - val_loss: 0.2679\n",
            "Epoch 20/50\n",
            "\u001b[1m2193/2193\u001b[0m \u001b[32m━━━━━━━━━━━━━━━━━━━━\u001b[0m\u001b[37m\u001b[0m \u001b[1m3s\u001b[0m 2ms/step - accuracy: 0.8596 - loss: 0.2915 - val_accuracy: 0.8697 - val_loss: 0.2684\n",
            "Epoch 21/50\n",
            "\u001b[1m2193/2193\u001b[0m \u001b[32m━━━━━━━━━━━━━━━━━━━━\u001b[0m\u001b[37m\u001b[0m \u001b[1m3s\u001b[0m 1ms/step - accuracy: 0.8618 - loss: 0.2827 - val_accuracy: 0.8712 - val_loss: 0.2686\n",
            "Epoch 22/50\n",
            "\u001b[1m2193/2193\u001b[0m \u001b[32m━━━━━━━━━━━━━━━━━━━━\u001b[0m\u001b[37m\u001b[0m \u001b[1m3s\u001b[0m 2ms/step - accuracy: 0.8614 - loss: 0.2869 - val_accuracy: 0.8694 - val_loss: 0.2672\n",
            "Epoch 23/50\n",
            "\u001b[1m2193/2193\u001b[0m \u001b[32m━━━━━━━━━━━━━━━━━━━━\u001b[0m\u001b[37m\u001b[0m \u001b[1m2s\u001b[0m 1ms/step - accuracy: 0.8652 - loss: 0.2821 - val_accuracy: 0.8732 - val_loss: 0.2648\n",
            "Epoch 24/50\n",
            "\u001b[1m2193/2193\u001b[0m \u001b[32m━━━━━━━━━━━━━━━━━━━━\u001b[0m\u001b[37m\u001b[0m \u001b[1m2s\u001b[0m 885us/step - accuracy: 0.8621 - loss: 0.2813 - val_accuracy: 0.8700 - val_loss: 0.2636\n",
            "Epoch 25/50\n",
            "\u001b[1m2193/2193\u001b[0m \u001b[32m━━━━━━━━━━━━━━━━━━━━\u001b[0m\u001b[37m\u001b[0m \u001b[1m2s\u001b[0m 857us/step - accuracy: 0.8603 - loss: 0.2867 - val_accuracy: 0.8729 - val_loss: 0.2632\n",
            "Epoch 26/50\n",
            "\u001b[1m2193/2193\u001b[0m \u001b[32m━━━━━━━━━━━━━━━━━━━━\u001b[0m\u001b[37m\u001b[0m \u001b[1m2s\u001b[0m 860us/step - accuracy: 0.8630 - loss: 0.2826 - val_accuracy: 0.8745 - val_loss: 0.2627\n",
            "Epoch 27/50\n",
            "\u001b[1m2193/2193\u001b[0m \u001b[32m━━━━━━━━━━━━━━━━━━━━\u001b[0m\u001b[37m\u001b[0m \u001b[1m2s\u001b[0m 876us/step - accuracy: 0.8650 - loss: 0.2810 - val_accuracy: 0.8745 - val_loss: 0.2658\n",
            "Epoch 28/50\n",
            "\u001b[1m2193/2193\u001b[0m \u001b[32m━━━━━━━━━━━━━━━━━━━━\u001b[0m\u001b[37m\u001b[0m \u001b[1m2s\u001b[0m 863us/step - accuracy: 0.8642 - loss: 0.2811 - val_accuracy: 0.8731 - val_loss: 0.2646\n",
            "Epoch 29/50\n",
            "\u001b[1m2193/2193\u001b[0m \u001b[32m━━━━━━━━━━━━━━━━━━━━\u001b[0m\u001b[37m\u001b[0m \u001b[1m2s\u001b[0m 882us/step - accuracy: 0.8627 - loss: 0.2840 - val_accuracy: 0.8751 - val_loss: 0.2606\n",
            "Epoch 30/50\n",
            "\u001b[1m2193/2193\u001b[0m \u001b[32m━━━━━━━━━━━━━━━━━━━━\u001b[0m\u001b[37m\u001b[0m \u001b[1m2s\u001b[0m 865us/step - accuracy: 0.8651 - loss: 0.2796 - val_accuracy: 0.8745 - val_loss: 0.2624\n",
            "Epoch 31/50\n",
            "\u001b[1m2193/2193\u001b[0m \u001b[32m━━━━━━━━━━━━━━━━━━━━\u001b[0m\u001b[37m\u001b[0m \u001b[1m2s\u001b[0m 881us/step - accuracy: 0.8670 - loss: 0.2784 - val_accuracy: 0.8753 - val_loss: 0.2599\n",
            "Epoch 32/50\n",
            "\u001b[1m2193/2193\u001b[0m \u001b[32m━━━━━━━━━━━━━━━━━━━━\u001b[0m\u001b[37m\u001b[0m \u001b[1m2s\u001b[0m 859us/step - accuracy: 0.8672 - loss: 0.2789 - val_accuracy: 0.8742 - val_loss: 0.2628\n",
            "Epoch 33/50\n",
            "\u001b[1m2193/2193\u001b[0m \u001b[32m━━━━━━━━━━━━━━━━━━━━\u001b[0m\u001b[37m\u001b[0m \u001b[1m2s\u001b[0m 902us/step - accuracy: 0.8624 - loss: 0.2815 - val_accuracy: 0.8755 - val_loss: 0.2622\n",
            "Epoch 34/50\n",
            "\u001b[1m2193/2193\u001b[0m \u001b[32m━━━━━━━━━━━━━━━━━━━━\u001b[0m\u001b[37m\u001b[0m \u001b[1m2s\u001b[0m 877us/step - accuracy: 0.8663 - loss: 0.2781 - val_accuracy: 0.8756 - val_loss: 0.2621\n",
            "Epoch 35/50\n",
            "\u001b[1m2193/2193\u001b[0m \u001b[32m━━━━━━━━━━━━━━━━━━━━\u001b[0m\u001b[37m\u001b[0m \u001b[1m2s\u001b[0m 900us/step - accuracy: 0.8651 - loss: 0.2769 - val_accuracy: 0.8734 - val_loss: 0.2614\n",
            "Epoch 36/50\n",
            "\u001b[1m2193/2193\u001b[0m \u001b[32m━━━━━━━━━━━━━━━━━━━━\u001b[0m\u001b[37m\u001b[0m \u001b[1m2s\u001b[0m 879us/step - accuracy: 0.8651 - loss: 0.2800 - val_accuracy: 0.8757 - val_loss: 0.2601\n",
            "Epoch 37/50\n",
            "\u001b[1m2193/2193\u001b[0m \u001b[32m━━━━━━━━━━━━━━━━━━━━\u001b[0m\u001b[37m\u001b[0m \u001b[1m2s\u001b[0m 886us/step - accuracy: 0.8679 - loss: 0.2744 - val_accuracy: 0.8776 - val_loss: 0.2624\n",
            "Epoch 38/50\n",
            "\u001b[1m2193/2193\u001b[0m \u001b[32m━━━━━━━━━━━━━━━━━━━━\u001b[0m\u001b[37m\u001b[0m \u001b[1m2s\u001b[0m 865us/step - accuracy: 0.8626 - loss: 0.2835 - val_accuracy: 0.8767 - val_loss: 0.2605\n",
            "Epoch 39/50\n",
            "\u001b[1m2193/2193\u001b[0m \u001b[32m━━━━━━━━━━━━━━━━━━━━\u001b[0m\u001b[37m\u001b[0m \u001b[1m2s\u001b[0m 879us/step - accuracy: 0.8672 - loss: 0.2752 - val_accuracy: 0.8719 - val_loss: 0.2671\n",
            "Epoch 40/50\n",
            "\u001b[1m2193/2193\u001b[0m \u001b[32m━━━━━━━━━━━━━━━━━━━━\u001b[0m\u001b[37m\u001b[0m \u001b[1m2s\u001b[0m 861us/step - accuracy: 0.8668 - loss: 0.2756 - val_accuracy: 0.8783 - val_loss: 0.2625\n",
            "Epoch 41/50\n",
            "\u001b[1m2193/2193\u001b[0m \u001b[32m━━━━━━━━━━━━━━━━━━━━\u001b[0m\u001b[37m\u001b[0m \u001b[1m2s\u001b[0m 881us/step - accuracy: 0.8668 - loss: 0.2766 - val_accuracy: 0.8763 - val_loss: 0.2597\n",
            "Epoch 42/50\n",
            "\u001b[1m2193/2193\u001b[0m \u001b[32m━━━━━━━━━━━━━━━━━━━━\u001b[0m\u001b[37m\u001b[0m \u001b[1m2s\u001b[0m 858us/step - accuracy: 0.8685 - loss: 0.2749 - val_accuracy: 0.8762 - val_loss: 0.2612\n",
            "Epoch 43/50\n",
            "\u001b[1m2193/2193\u001b[0m \u001b[32m━━━━━━━━━━━━━━━━━━━━\u001b[0m\u001b[37m\u001b[0m \u001b[1m2s\u001b[0m 881us/step - accuracy: 0.8674 - loss: 0.2757 - val_accuracy: 0.8766 - val_loss: 0.2584\n",
            "Epoch 44/50\n",
            "\u001b[1m2193/2193\u001b[0m \u001b[32m━━━━━━━━━━━━━━━━━━━━\u001b[0m\u001b[37m\u001b[0m \u001b[1m2s\u001b[0m 887us/step - accuracy: 0.8670 - loss: 0.2741 - val_accuracy: 0.8779 - val_loss: 0.2604\n",
            "Epoch 45/50\n",
            "\u001b[1m2193/2193\u001b[0m \u001b[32m━━━━━━━━━━━━━━━━━━━━\u001b[0m\u001b[37m\u001b[0m \u001b[1m2s\u001b[0m 867us/step - accuracy: 0.8661 - loss: 0.2734 - val_accuracy: 0.8778 - val_loss: 0.2606\n",
            "Epoch 46/50\n",
            "\u001b[1m2193/2193\u001b[0m \u001b[32m━━━━━━━━━━━━━━━━━━━━\u001b[0m\u001b[37m\u001b[0m \u001b[1m2s\u001b[0m 894us/step - accuracy: 0.8691 - loss: 0.2742 - val_accuracy: 0.8779 - val_loss: 0.2585\n",
            "Epoch 47/50\n",
            "\u001b[1m2193/2193\u001b[0m \u001b[32m━━━━━━━━━━━━━━━━━━━━\u001b[0m\u001b[37m\u001b[0m \u001b[1m2s\u001b[0m 877us/step - accuracy: 0.8662 - loss: 0.2745 - val_accuracy: 0.8770 - val_loss: 0.2615\n",
            "Epoch 48/50\n",
            "\u001b[1m2193/2193\u001b[0m \u001b[32m━━━━━━━━━━━━━━━━━━━━\u001b[0m\u001b[37m\u001b[0m \u001b[1m2s\u001b[0m 882us/step - accuracy: 0.8682 - loss: 0.2717 - val_accuracy: 0.8757 - val_loss: 0.2609\n",
            "Epoch 49/50\n",
            "\u001b[1m2193/2193\u001b[0m \u001b[32m━━━━━━━━━━━━━━━━━━━━\u001b[0m\u001b[37m\u001b[0m \u001b[1m2s\u001b[0m 903us/step - accuracy: 0.8686 - loss: 0.2728 - val_accuracy: 0.8782 - val_loss: 0.2601\n",
            "Epoch 50/50\n",
            "\u001b[1m2193/2193\u001b[0m \u001b[32m━━━━━━━━━━━━━━━━━━━━\u001b[0m\u001b[37m\u001b[0m \u001b[1m2s\u001b[0m 873us/step - accuracy: 0.8676 - loss: 0.2710 - val_accuracy: 0.8738 - val_loss: 0.2635\n"
          ]
        }
      ],
      "source": [
        "history = model.fit(\n",
        "    X_train, y_train,\n",
        "    epochs=50,\n",
        "    batch_size=32,\n",
        "    validation_split=0.2,\n",
        "    # class_weight=class_weights_dict,\n",
        "    # callbacks=[early_stopping]\n",
        ")"
      ]
    },
    {
      "cell_type": "code",
      "execution_count": 61,
      "metadata": {
        "colab": {
          "base_uri": "https://localhost:8080/"
        },
        "id": "-56C3qJfjQtB",
        "outputId": "dd199a7a-7e34-46f7-e589-a1b764774015"
      },
      "outputs": [
        {
          "name": "stdout",
          "output_type": "stream",
          "text": [
            "\u001b[1m686/686\u001b[0m \u001b[32m━━━━━━━━━━━━━━━━━━━━\u001b[0m\u001b[37m\u001b[0m \u001b[1m0s\u001b[0m 547us/step - accuracy: 0.8706 - loss: 0.2668\n",
            "Test Accuracy: 0.8734\n"
          ]
        }
      ],
      "source": [
        "test_loss, test_accuracy = model.evaluate(X_test, y_test)\n",
        "print(f\"Test Accuracy: {test_accuracy:.4f}\")"
      ]
    },
    {
      "cell_type": "code",
      "execution_count": 62,
      "metadata": {
        "colab": {
          "base_uri": "https://localhost:8080/"
        },
        "id": "rNBFsT98j0ZG",
        "outputId": "5887b54e-e8af-4aca-a7bc-6167f7d81f4a"
      },
      "outputs": [
        {
          "name": "stdout",
          "output_type": "stream",
          "text": [
            "\u001b[1m686/686\u001b[0m \u001b[32m━━━━━━━━━━━━━━━━━━━━\u001b[0m\u001b[37m\u001b[0m \u001b[1m0s\u001b[0m 578us/step\n"
          ]
        }
      ],
      "source": [
        "y_pred = (model.predict(X_test) > 0.5).astype(\"int32\")"
      ]
    },
    {
      "cell_type": "code",
      "execution_count": 63,
      "metadata": {
        "colab": {
          "base_uri": "https://localhost:8080/"
        },
        "id": "cVz3q5fMj2mu",
        "outputId": "12554ac2-afbd-43f9-e896-446da6ceba64"
      },
      "outputs": [
        {
          "name": "stdout",
          "output_type": "stream",
          "text": [
            "\n",
            "Classification Report:\n",
            "              precision    recall  f1-score   support\n",
            "\n",
            "           0       0.96      0.83      0.89     13257\n",
            "           1       0.78      0.94      0.85      8670\n",
            "\n",
            "    accuracy                           0.87     21927\n",
            "   macro avg       0.87      0.88      0.87     21927\n",
            "weighted avg       0.89      0.87      0.87     21927\n",
            "\n"
          ]
        }
      ],
      "source": [
        "print(\"\\nClassification Report:\")\n",
        "print(classification_report(y_test, y_pred))"
      ]
    },
    {
      "cell_type": "code",
      "execution_count": 64,
      "metadata": {
        "colab": {
          "base_uri": "https://localhost:8080/"
        },
        "id": "LLMSBo8Cj46U",
        "outputId": "b3b36ab5-2fce-4e54-bce4-4ca85cc6d471"
      },
      "outputs": [
        {
          "name": "stdout",
          "output_type": "stream",
          "text": [
            "Accuracy Score: 0.8734\n"
          ]
        }
      ],
      "source": [
        "print(f\"Accuracy Score: {accuracy_score(y_test, y_pred):.4f}\")"
      ]
    },
    {
      "cell_type": "code",
      "execution_count": 65,
      "metadata": {
        "colab": {
          "base_uri": "https://localhost:8080/"
        },
        "id": "Fea54IUAj82p",
        "outputId": "756ff6f7-712b-4384-c2fd-8cf7e96424e3"
      },
      "outputs": [
        {
          "name": "stdout",
          "output_type": "stream",
          "text": [
            "\u001b[1m1/1\u001b[0m \u001b[32m━━━━━━━━━━━━━━━━━━━━\u001b[0m\u001b[37m\u001b[0m \u001b[1m0s\u001b[0m 19ms/step\n",
            "Predicted Class: 0\n"
          ]
        }
      ],
      "source": [
        "single_row_data = {\n",
        "    'pos': 72,\n",
        "    'flw': 210,\n",
        "    'flg': 1400,\n",
        "    'bl': 122,\n",
        "    'pic': 1,\n",
        "    'lin': 0,\n",
        "    'cl': 35,\n",
        "    'cz': 0.055555556,\n",
        "    'ni': 0,\n",
        "    'erl': 12.510000229,\n",
        "    'erc': 0.2599999905,\n",
        "    'lt': 0,\n",
        "    'hc': 0.1669999957,\n",
        "    'pr': 0,\n",
        "    'fo': 1,\n",
        "    'cs': 0.064790003,\n",
        "    'pi': 16.430524826\n",
        "}\n",
        "\n",
        "# Convert the dictionary to a DataFrame\n",
        "single_row_df = pd.DataFrame([single_row_data])\n",
        "\n",
        "# Step 2: Scale the data using the same scaler as during training\n",
        "single_row_scaled = scaler.transform(single_row_df)\n",
        "\n",
        "# Step 3: Make the prediction\n",
        "prediction = model.predict(single_row_scaled)\n",
        "\n",
        "# Since the output is a probability (sigmoid), we threshold it to get the class (0 or 1)\n",
        "predicted_class = (prediction > 0.5).astype(\"int32\")\n",
        "\n",
        "# Output the prediction\n",
        "print(f\"Predicted Class: {predicted_class[0][0]}\")"
      ]
    },
    {
      "cell_type": "code",
      "execution_count": 67,
      "metadata": {
        "id": "fEMHPhJ3vrD3"
      },
      "outputs": [
        {
          "name": "stdout",
          "output_type": "stream",
          "text": [
            "Model saved successfully!\n"
          ]
        }
      ],
      "source": [
        "# Save the TensorFlow/Keras model\n",
        "model.save(\"../models/dnn_model.keras\")  \n",
        "print(\"Model saved successfully!\")\n"
      ]
    }
  ],
  "metadata": {
    "accelerator": "GPU",
    "colab": {
      "gpuType": "T4",
      "provenance": []
    },
    "kernelspec": {
      "display_name": "Python 3",
      "name": "python3"
    },
    "language_info": {
      "codemirror_mode": {
        "name": "ipython",
        "version": 3
      },
      "file_extension": ".py",
      "mimetype": "text/x-python",
      "name": "python",
      "nbconvert_exporter": "python",
      "pygments_lexer": "ipython3",
      "version": "3.12.5"
    }
  },
  "nbformat": 4,
  "nbformat_minor": 0
}
