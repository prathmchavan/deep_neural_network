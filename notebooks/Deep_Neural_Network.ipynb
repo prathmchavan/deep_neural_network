{
  "nbformat": 4,
  "nbformat_minor": 0,
  "metadata": {
    "colab": {
      "provenance": [],
      "gpuType": "T4"
    },
    "kernelspec": {
      "name": "python3",
      "display_name": "Python 3"
    },
    "language_info": {
      "name": "python"
    },
    "accelerator": "GPU"
  },
  "cells": [
    {
      "cell_type": "code",
      "execution_count": null,
      "metadata": {
        "id": "nA99tqH5iQzp"
      },
      "outputs": [],
      "source": [
        "import pandas as pd\n",
        "import numpy as np\n",
        "import tensorflow as tf\n",
        "from sklearn.model_selection import train_test_split\n",
        "from sklearn.preprocessing import LabelEncoder, StandardScaler\n",
        "from sklearn.metrics import classification_report, accuracy_score\n",
        "from sklearn.utils import class_weight"
      ]
    },
    {
      "cell_type": "code",
      "source": [
        "df = pd.read_csv(\"./instagram.csv\")\n",
        "df['class'] = df['class'].replace(['a', 'i', 's'], 'f')\n",
        "df = df.sample(frac=1, random_state=42).reset_index(drop=True)\n",
        "df['class'] = df['class'].replace(['f'], 0)\n",
        "df['class'] = df['class'].replace(['r'], 1)\n",
        "print(\"Unique values in 'class' column:\", df['class'].unique())"
      ],
      "metadata": {
        "colab": {
          "base_uri": "https://localhost:8080/"
        },
        "id": "b93snBENi9rt",
        "outputId": "8c4a0701-e0da-4a74-f23a-41be1b2379d9"
      },
      "execution_count": null,
      "outputs": [
        {
          "output_type": "stream",
          "name": "stdout",
          "text": [
            "Unique values in 'class' column: [0 1]\n"
          ]
        },
        {
          "output_type": "stream",
          "name": "stderr",
          "text": [
            "<ipython-input-2-e333e0189604>:5: FutureWarning: Downcasting behavior in `replace` is deprecated and will be removed in a future version. To retain the old behavior, explicitly call `result.infer_objects(copy=False)`. To opt-in to the future behavior, set `pd.set_option('future.no_silent_downcasting', True)`\n",
            "  df['class'] = df['class'].replace(['r'], 1)\n"
          ]
        }
      ]
    },
    {
      "cell_type": "code",
      "source": [
        "print(df.head())"
      ],
      "metadata": {
        "colab": {
          "base_uri": "https://localhost:8080/"
        },
        "id": "A5rtDIeii_Uq",
        "outputId": "47587fb7-9888-424a-f582-b645829986e0"
      },
      "execution_count": null,
      "outputs": [
        {
          "output_type": "stream",
          "name": "stdout",
          "text": [
            "    pos   flw   flg  bl  pic  lin    cl        cz     ni        erl   erc  \\\n",
            "0   120   126   740  69    1    0  1036  0.055556  0.111   8.600000  0.66   \n",
            "1  1200   800  2800  91    1    1   381  0.000000  0.556   0.550000  0.03   \n",
            "2     0     1    38   0    0    0     0  0.000000  0.000   0.000000  0.00   \n",
            "3    49   297   275  44    1    1    36  0.222222  0.000  19.230000  0.58   \n",
            "4     1  1800  7500   0    1    0   165  0.000000  0.000  29.780001  1.83   \n",
            "\n",
            "      lt     hc     pr     fo        cs          pi  class  \n",
            "0  0.000  0.556  0.667  0.278  0.173787  113.461594      0  \n",
            "1  0.000  0.000  0.000  0.000  0.189783    7.124306      1  \n",
            "2  0.000  0.000  0.000  0.000  1.000000    0.000000      0  \n",
            "3  0.889  0.389  0.000  0.056  0.052664  111.983299      1  \n",
            "4  0.000  0.000  0.000  0.000  0.000000    0.000000      0  \n"
          ]
        }
      ]
    },
    {
      "cell_type": "code",
      "source": [
        "X = df.drop('class', axis=1)\n",
        "y = df['class']"
      ],
      "metadata": {
        "id": "MvYuMzRMjBPP"
      },
      "execution_count": null,
      "outputs": []
    },
    {
      "cell_type": "code",
      "source": [
        "scaler = StandardScaler()\n",
        "X_scaled = scaler.fit_transform(X)"
      ],
      "metadata": {
        "id": "nph6Q5DijESS"
      },
      "execution_count": null,
      "outputs": []
    },
    {
      "cell_type": "code",
      "source": [
        "X_train, X_test, y_train, y_test = train_test_split(X_scaled, y, test_size=0.2, random_state=42)"
      ],
      "metadata": {
        "id": "nEY8qE8UjF6O"
      },
      "execution_count": null,
      "outputs": []
    },
    {
      "cell_type": "code",
      "source": [
        "from sklearn.utils import class_weight\n",
        "\n",
        "# Compute class weights explicitly for classes 0 and 1\n",
        "class_weights = class_weight.compute_class_weight(\n",
        "    class_weight='balanced',\n",
        "    classes=np.array([0, 1]),\n",
        "    y=y_train\n",
        ")\n",
        "\n",
        "# Explicitly define the dictionary with keys 0 and 1\n",
        "class_weights_dict = {0: class_weights[0], 1: class_weights[1]}\n",
        "print(\"Class weights:\", class_weights_dict)"
      ],
      "metadata": {
        "colab": {
          "base_uri": "https://localhost:8080/"
        },
        "id": "DgYwfX0pkNjV",
        "outputId": "99cbec30-2694-4ce3-8268-8f1bb3127e2c"
      },
      "execution_count": null,
      "outputs": [
        {
          "output_type": "stream",
          "name": "stdout",
          "text": [
            "Class weights: {0: 0.8278524503511289, 1: 1.262538147060517}\n"
          ]
        }
      ]
    },
    {
      "cell_type": "code",
      "source": [
        "model = tf.keras.models.Sequential([\n",
        "    tf.keras.layers.InputLayer(input_shape=(X_train.shape[1],)),\n",
        "    tf.keras.layers.Dense(64, activation='relu'),\n",
        "    tf.keras.layers.Dropout(0.5),\n",
        "    tf.keras.layers.Dense(32, activation='relu'),\n",
        "    tf.keras.layers.Dropout(0.5),\n",
        "    tf.keras.layers.Dense(16, activation='relu'),\n",
        "    tf.keras.layers.Dense(1, activation='sigmoid')\n",
        "])"
      ],
      "metadata": {
        "colab": {
          "base_uri": "https://localhost:8080/"
        },
        "id": "IL17dvDvjH6U",
        "outputId": "ee213fe6-2d38-42ed-853f-e562cafeec04"
      },
      "execution_count": null,
      "outputs": [
        {
          "output_type": "stream",
          "name": "stderr",
          "text": [
            "/usr/local/lib/python3.10/dist-packages/keras/src/layers/core/input_layer.py:26: UserWarning: Argument `input_shape` is deprecated. Use `shape` instead.\n",
            "  warnings.warn(\n"
          ]
        }
      ]
    },
    {
      "cell_type": "code",
      "source": [
        "model.compile(optimizer='adam', loss='binary_crossentropy', metrics=['accuracy'])"
      ],
      "metadata": {
        "id": "9ljBk4r8jJxu"
      },
      "execution_count": null,
      "outputs": []
    },
    {
      "cell_type": "code",
      "source": [
        "# early_stopping = tf.keras.callbacks.EarlyStopping(monitor='val_loss', patience=5, restore_best_weights=True)"
      ],
      "metadata": {
        "id": "ib9JzIH8kdNN"
      },
      "execution_count": null,
      "outputs": []
    },
    {
      "cell_type": "code",
      "source": [
        "print(\"Unique classes in y_train:\", np.unique(y_train))"
      ],
      "metadata": {
        "colab": {
          "base_uri": "https://localhost:8080/"
        },
        "id": "Dl8bvQK7kt11",
        "outputId": "b6ce5c1e-c145-4283-a5da-b3482e33e1e9"
      },
      "execution_count": null,
      "outputs": [
        {
          "output_type": "stream",
          "name": "stdout",
          "text": [
            "Unique classes in y_train: [0 1]\n"
          ]
        }
      ]
    },
    {
      "cell_type": "code",
      "source": [
        "history = model.fit(\n",
        "    X_train, y_train,\n",
        "    epochs=50,\n",
        "    batch_size=32,\n",
        "    validation_split=0.2,\n",
        "    # class_weight=class_weights_dict,\n",
        "    # callbacks=[early_stopping]\n",
        ")"
      ],
      "metadata": {
        "colab": {
          "base_uri": "https://localhost:8080/"
        },
        "id": "k8cMRmG4jL2y",
        "outputId": "1866fd4f-282e-4c0a-a670-625fee494d27"
      },
      "execution_count": null,
      "outputs": [
        {
          "output_type": "stream",
          "name": "stdout",
          "text": [
            "Epoch 1/50\n",
            "\u001b[1m2193/2193\u001b[0m \u001b[32m━━━━━━━━━━━━━━━━━━━━\u001b[0m\u001b[37m\u001b[0m \u001b[1m12s\u001b[0m 4ms/step - accuracy: 0.7497 - loss: 0.5073 - val_accuracy: 0.8345 - val_loss: 0.3736\n",
            "Epoch 2/50\n",
            "\u001b[1m2193/2193\u001b[0m \u001b[32m━━━━━━━━━━━━━━━━━━━━\u001b[0m\u001b[37m\u001b[0m \u001b[1m14s\u001b[0m 2ms/step - accuracy: 0.8243 - loss: 0.3902 - val_accuracy: 0.8511 - val_loss: 0.3250\n",
            "Epoch 3/50\n",
            "\u001b[1m2193/2193\u001b[0m \u001b[32m━━━━━━━━━━━━━━━━━━━━\u001b[0m\u001b[37m\u001b[0m \u001b[1m4s\u001b[0m 2ms/step - accuracy: 0.8422 - loss: 0.3455 - val_accuracy: 0.8566 - val_loss: 0.3068\n",
            "Epoch 4/50\n",
            "\u001b[1m2193/2193\u001b[0m \u001b[32m━━━━━━━━━━━━━━━━━━━━\u001b[0m\u001b[37m\u001b[0m \u001b[1m6s\u001b[0m 3ms/step - accuracy: 0.8481 - loss: 0.3270 - val_accuracy: 0.8605 - val_loss: 0.2992\n",
            "Epoch 5/50\n",
            "\u001b[1m2193/2193\u001b[0m \u001b[32m━━━━━━━━━━━━━━━━━━━━\u001b[0m\u001b[37m\u001b[0m \u001b[1m9s\u001b[0m 2ms/step - accuracy: 0.8494 - loss: 0.3170 - val_accuracy: 0.8581 - val_loss: 0.2930\n",
            "Epoch 6/50\n",
            "\u001b[1m2193/2193\u001b[0m \u001b[32m━━━━━━━━━━━━━━━━━━━━\u001b[0m\u001b[37m\u001b[0m \u001b[1m5s\u001b[0m 2ms/step - accuracy: 0.8536 - loss: 0.3105 - val_accuracy: 0.8629 - val_loss: 0.2894\n",
            "Epoch 7/50\n",
            "\u001b[1m2193/2193\u001b[0m \u001b[32m━━━━━━━━━━━━━━━━━━━━\u001b[0m\u001b[37m\u001b[0m \u001b[1m5s\u001b[0m 2ms/step - accuracy: 0.8567 - loss: 0.3048 - val_accuracy: 0.8621 - val_loss: 0.2867\n",
            "Epoch 8/50\n",
            "\u001b[1m2193/2193\u001b[0m \u001b[32m━━━━━━━━━━━━━━━━━━━━\u001b[0m\u001b[37m\u001b[0m \u001b[1m6s\u001b[0m 2ms/step - accuracy: 0.8546 - loss: 0.3063 - val_accuracy: 0.8652 - val_loss: 0.2839\n",
            "Epoch 9/50\n",
            "\u001b[1m2193/2193\u001b[0m \u001b[32m━━━━━━━━━━━━━━━━━━━━\u001b[0m\u001b[37m\u001b[0m \u001b[1m5s\u001b[0m 2ms/step - accuracy: 0.8569 - loss: 0.2976 - val_accuracy: 0.8633 - val_loss: 0.2837\n",
            "Epoch 10/50\n",
            "\u001b[1m2193/2193\u001b[0m \u001b[32m━━━━━━━━━━━━━━━━━━━━\u001b[0m\u001b[37m\u001b[0m \u001b[1m4s\u001b[0m 2ms/step - accuracy: 0.8580 - loss: 0.2967 - val_accuracy: 0.8651 - val_loss: 0.2755\n",
            "Epoch 11/50\n",
            "\u001b[1m2193/2193\u001b[0m \u001b[32m━━━━━━━━━━━━━━━━━━━━\u001b[0m\u001b[37m\u001b[0m \u001b[1m6s\u001b[0m 3ms/step - accuracy: 0.8593 - loss: 0.2981 - val_accuracy: 0.8669 - val_loss: 0.2762\n",
            "Epoch 12/50\n",
            "\u001b[1m2193/2193\u001b[0m \u001b[32m━━━━━━━━━━━━━━━━━━━━\u001b[0m\u001b[37m\u001b[0m \u001b[1m9s\u001b[0m 2ms/step - accuracy: 0.8600 - loss: 0.2932 - val_accuracy: 0.8669 - val_loss: 0.2768\n",
            "Epoch 13/50\n",
            "\u001b[1m2193/2193\u001b[0m \u001b[32m━━━━━━━━━━━━━━━━━━━━\u001b[0m\u001b[37m\u001b[0m \u001b[1m5s\u001b[0m 2ms/step - accuracy: 0.8613 - loss: 0.2898 - val_accuracy: 0.8653 - val_loss: 0.2727\n",
            "Epoch 14/50\n",
            "\u001b[1m2193/2193\u001b[0m \u001b[32m━━━━━━━━━━━━━━━━━━━━\u001b[0m\u001b[37m\u001b[0m \u001b[1m5s\u001b[0m 2ms/step - accuracy: 0.8617 - loss: 0.2885 - val_accuracy: 0.8692 - val_loss: 0.2729\n",
            "Epoch 15/50\n",
            "\u001b[1m2193/2193\u001b[0m \u001b[32m━━━━━━━━━━━━━━━━━━━━\u001b[0m\u001b[37m\u001b[0m \u001b[1m5s\u001b[0m 2ms/step - accuracy: 0.8642 - loss: 0.2857 - val_accuracy: 0.8638 - val_loss: 0.2750\n",
            "Epoch 16/50\n",
            "\u001b[1m2193/2193\u001b[0m \u001b[32m━━━━━━━━━━━━━━━━━━━━\u001b[0m\u001b[37m\u001b[0m \u001b[1m10s\u001b[0m 2ms/step - accuracy: 0.8641 - loss: 0.2866 - val_accuracy: 0.8687 - val_loss: 0.2716\n",
            "Epoch 17/50\n",
            "\u001b[1m2193/2193\u001b[0m \u001b[32m━━━━━━━━━━━━━━━━━━━━\u001b[0m\u001b[37m\u001b[0m \u001b[1m5s\u001b[0m 2ms/step - accuracy: 0.8602 - loss: 0.2857 - val_accuracy: 0.8682 - val_loss: 0.2699\n",
            "Epoch 18/50\n",
            "\u001b[1m2193/2193\u001b[0m \u001b[32m━━━━━━━━━━━━━━━━━━━━\u001b[0m\u001b[37m\u001b[0m \u001b[1m5s\u001b[0m 2ms/step - accuracy: 0.8637 - loss: 0.2846 - val_accuracy: 0.8689 - val_loss: 0.2706\n",
            "Epoch 19/50\n",
            "\u001b[1m2193/2193\u001b[0m \u001b[32m━━━━━━━━━━━━━━━━━━━━\u001b[0m\u001b[37m\u001b[0m \u001b[1m6s\u001b[0m 3ms/step - accuracy: 0.8648 - loss: 0.2808 - val_accuracy: 0.8719 - val_loss: 0.2652\n",
            "Epoch 20/50\n",
            "\u001b[1m2193/2193\u001b[0m \u001b[32m━━━━━━━━━━━━━━━━━━━━\u001b[0m\u001b[37m\u001b[0m \u001b[1m4s\u001b[0m 2ms/step - accuracy: 0.8662 - loss: 0.2802 - val_accuracy: 0.8719 - val_loss: 0.2681\n",
            "Epoch 21/50\n",
            "\u001b[1m2193/2193\u001b[0m \u001b[32m━━━━━━━━━━━━━━━━━━━━\u001b[0m\u001b[37m\u001b[0m \u001b[1m5s\u001b[0m 2ms/step - accuracy: 0.8612 - loss: 0.2870 - val_accuracy: 0.8689 - val_loss: 0.2671\n",
            "Epoch 22/50\n",
            "\u001b[1m2193/2193\u001b[0m \u001b[32m━━━━━━━━━━━━━━━━━━━━\u001b[0m\u001b[37m\u001b[0m \u001b[1m6s\u001b[0m 2ms/step - accuracy: 0.8672 - loss: 0.2772 - val_accuracy: 0.8727 - val_loss: 0.2650\n",
            "Epoch 23/50\n",
            "\u001b[1m2193/2193\u001b[0m \u001b[32m━━━━━━━━━━━━━━━━━━━━\u001b[0m\u001b[37m\u001b[0m \u001b[1m10s\u001b[0m 2ms/step - accuracy: 0.8660 - loss: 0.2805 - val_accuracy: 0.8700 - val_loss: 0.2660\n",
            "Epoch 24/50\n",
            "\u001b[1m2193/2193\u001b[0m \u001b[32m━━━━━━━━━━━━━━━━━━━━\u001b[0m\u001b[37m\u001b[0m \u001b[1m5s\u001b[0m 2ms/step - accuracy: 0.8633 - loss: 0.2833 - val_accuracy: 0.8708 - val_loss: 0.2667\n",
            "Epoch 25/50\n",
            "\u001b[1m2193/2193\u001b[0m \u001b[32m━━━━━━━━━━━━━━━━━━━━\u001b[0m\u001b[37m\u001b[0m \u001b[1m5s\u001b[0m 2ms/step - accuracy: 0.8666 - loss: 0.2777 - val_accuracy: 0.8668 - val_loss: 0.2659\n",
            "Epoch 26/50\n",
            "\u001b[1m2193/2193\u001b[0m \u001b[32m━━━━━━━━━━━━━━━━━━━━\u001b[0m\u001b[37m\u001b[0m \u001b[1m7s\u001b[0m 3ms/step - accuracy: 0.8666 - loss: 0.2775 - val_accuracy: 0.8739 - val_loss: 0.2613\n",
            "Epoch 27/50\n",
            "\u001b[1m2193/2193\u001b[0m \u001b[32m━━━━━━━━━━━━━━━━━━━━\u001b[0m\u001b[37m\u001b[0m \u001b[1m4s\u001b[0m 2ms/step - accuracy: 0.8660 - loss: 0.2790 - val_accuracy: 0.8734 - val_loss: 0.2612\n",
            "Epoch 28/50\n",
            "\u001b[1m2193/2193\u001b[0m \u001b[32m━━━━━━━━━━━━━━━━━━━━\u001b[0m\u001b[37m\u001b[0m \u001b[1m6s\u001b[0m 2ms/step - accuracy: 0.8666 - loss: 0.2798 - val_accuracy: 0.8753 - val_loss: 0.2619\n",
            "Epoch 29/50\n",
            "\u001b[1m2193/2193\u001b[0m \u001b[32m━━━━━━━━━━━━━━━━━━━━\u001b[0m\u001b[37m\u001b[0m \u001b[1m9s\u001b[0m 2ms/step - accuracy: 0.8670 - loss: 0.2747 - val_accuracy: 0.8753 - val_loss: 0.2630\n",
            "Epoch 30/50\n",
            "\u001b[1m2193/2193\u001b[0m \u001b[32m━━━━━━━━━━━━━━━━━━━━\u001b[0m\u001b[37m\u001b[0m \u001b[1m6s\u001b[0m 3ms/step - accuracy: 0.8664 - loss: 0.2763 - val_accuracy: 0.8701 - val_loss: 0.2655\n",
            "Epoch 31/50\n",
            "\u001b[1m2193/2193\u001b[0m \u001b[32m━━━━━━━━━━━━━━━━━━━━\u001b[0m\u001b[37m\u001b[0m \u001b[1m9s\u001b[0m 2ms/step - accuracy: 0.8651 - loss: 0.2778 - val_accuracy: 0.8754 - val_loss: 0.2634\n",
            "Epoch 32/50\n",
            "\u001b[1m2193/2193\u001b[0m \u001b[32m━━━━━━━━━━━━━━━━━━━━\u001b[0m\u001b[37m\u001b[0m \u001b[1m5s\u001b[0m 2ms/step - accuracy: 0.8641 - loss: 0.2797 - val_accuracy: 0.8756 - val_loss: 0.2612\n",
            "Epoch 33/50\n",
            "\u001b[1m2193/2193\u001b[0m \u001b[32m━━━━━━━━━━━━━━━━━━━━\u001b[0m\u001b[37m\u001b[0m \u001b[1m5s\u001b[0m 2ms/step - accuracy: 0.8663 - loss: 0.2777 - val_accuracy: 0.8727 - val_loss: 0.2616\n",
            "Epoch 34/50\n",
            "\u001b[1m2193/2193\u001b[0m \u001b[32m━━━━━━━━━━━━━━━━━━━━\u001b[0m\u001b[37m\u001b[0m \u001b[1m6s\u001b[0m 3ms/step - accuracy: 0.8674 - loss: 0.2744 - val_accuracy: 0.8734 - val_loss: 0.2613\n",
            "Epoch 35/50\n",
            "\u001b[1m2193/2193\u001b[0m \u001b[32m━━━━━━━━━━━━━━━━━━━━\u001b[0m\u001b[37m\u001b[0m \u001b[1m5s\u001b[0m 2ms/step - accuracy: 0.8669 - loss: 0.2755 - val_accuracy: 0.8765 - val_loss: 0.2582\n",
            "Epoch 36/50\n",
            "\u001b[1m2193/2193\u001b[0m \u001b[32m━━━━━━━━━━━━━━━━━━━━\u001b[0m\u001b[37m\u001b[0m \u001b[1m6s\u001b[0m 2ms/step - accuracy: 0.8683 - loss: 0.2743 - val_accuracy: 0.8749 - val_loss: 0.2595\n",
            "Epoch 37/50\n",
            "\u001b[1m2193/2193\u001b[0m \u001b[32m━━━━━━━━━━━━━━━━━━━━\u001b[0m\u001b[37m\u001b[0m \u001b[1m5s\u001b[0m 2ms/step - accuracy: 0.8662 - loss: 0.2736 - val_accuracy: 0.8752 - val_loss: 0.2626\n",
            "Epoch 38/50\n",
            "\u001b[1m2193/2193\u001b[0m \u001b[32m━━━━━━━━━━━━━━━━━━━━\u001b[0m\u001b[37m\u001b[0m \u001b[1m5s\u001b[0m 2ms/step - accuracy: 0.8670 - loss: 0.2746 - val_accuracy: 0.8673 - val_loss: 0.2632\n",
            "Epoch 39/50\n",
            "\u001b[1m2193/2193\u001b[0m \u001b[32m━━━━━━━━━━━━━━━━━━━━\u001b[0m\u001b[37m\u001b[0m \u001b[1m5s\u001b[0m 2ms/step - accuracy: 0.8717 - loss: 0.2693 - val_accuracy: 0.8697 - val_loss: 0.2616\n",
            "Epoch 40/50\n",
            "\u001b[1m2193/2193\u001b[0m \u001b[32m━━━━━━━━━━━━━━━━━━━━\u001b[0m\u001b[37m\u001b[0m \u001b[1m5s\u001b[0m 2ms/step - accuracy: 0.8674 - loss: 0.2718 - val_accuracy: 0.8762 - val_loss: 0.2599\n",
            "Epoch 41/50\n",
            "\u001b[1m2193/2193\u001b[0m \u001b[32m━━━━━━━━━━━━━━━━━━━━\u001b[0m\u001b[37m\u001b[0m \u001b[1m6s\u001b[0m 3ms/step - accuracy: 0.8680 - loss: 0.2734 - val_accuracy: 0.8682 - val_loss: 0.2645\n",
            "Epoch 42/50\n",
            "\u001b[1m2193/2193\u001b[0m \u001b[32m━━━━━━━━━━━━━━━━━━━━\u001b[0m\u001b[37m\u001b[0m \u001b[1m4s\u001b[0m 2ms/step - accuracy: 0.8667 - loss: 0.2713 - val_accuracy: 0.8758 - val_loss: 0.2601\n",
            "Epoch 43/50\n",
            "\u001b[1m2193/2193\u001b[0m \u001b[32m━━━━━━━━━━━━━━━━━━━━\u001b[0m\u001b[37m\u001b[0m \u001b[1m5s\u001b[0m 2ms/step - accuracy: 0.8680 - loss: 0.2711 - val_accuracy: 0.8744 - val_loss: 0.2589\n",
            "Epoch 44/50\n",
            "\u001b[1m2193/2193\u001b[0m \u001b[32m━━━━━━━━━━━━━━━━━━━━\u001b[0m\u001b[37m\u001b[0m \u001b[1m5s\u001b[0m 2ms/step - accuracy: 0.8698 - loss: 0.2694 - val_accuracy: 0.8738 - val_loss: 0.2616\n",
            "Epoch 45/50\n",
            "\u001b[1m2193/2193\u001b[0m \u001b[32m━━━━━━━━━━━━━━━━━━━━\u001b[0m\u001b[37m\u001b[0m \u001b[1m5s\u001b[0m 2ms/step - accuracy: 0.8694 - loss: 0.2713 - val_accuracy: 0.8711 - val_loss: 0.2622\n",
            "Epoch 46/50\n",
            "\u001b[1m2193/2193\u001b[0m \u001b[32m━━━━━━━━━━━━━━━━━━━━\u001b[0m\u001b[37m\u001b[0m \u001b[1m5s\u001b[0m 2ms/step - accuracy: 0.8681 - loss: 0.2721 - val_accuracy: 0.8718 - val_loss: 0.2614\n",
            "Epoch 47/50\n",
            "\u001b[1m2193/2193\u001b[0m \u001b[32m━━━━━━━━━━━━━━━━━━━━\u001b[0m\u001b[37m\u001b[0m \u001b[1m5s\u001b[0m 2ms/step - accuracy: 0.8691 - loss: 0.2696 - val_accuracy: 0.8757 - val_loss: 0.2590\n",
            "Epoch 48/50\n",
            "\u001b[1m2193/2193\u001b[0m \u001b[32m━━━━━━━━━━━━━━━━━━━━\u001b[0m\u001b[37m\u001b[0m \u001b[1m11s\u001b[0m 2ms/step - accuracy: 0.8710 - loss: 0.2721 - val_accuracy: 0.8658 - val_loss: 0.2627\n",
            "Epoch 49/50\n",
            "\u001b[1m2193/2193\u001b[0m \u001b[32m━━━━━━━━━━━━━━━━━━━━\u001b[0m\u001b[37m\u001b[0m \u001b[1m4s\u001b[0m 2ms/step - accuracy: 0.8684 - loss: 0.2717 - val_accuracy: 0.8757 - val_loss: 0.2582\n",
            "Epoch 50/50\n",
            "\u001b[1m2193/2193\u001b[0m \u001b[32m━━━━━━━━━━━━━━━━━━━━\u001b[0m\u001b[37m\u001b[0m \u001b[1m6s\u001b[0m 2ms/step - accuracy: 0.8678 - loss: 0.2733 - val_accuracy: 0.8680 - val_loss: 0.2619\n"
          ]
        }
      ]
    },
    {
      "cell_type": "code",
      "source": [
        "test_loss, test_accuracy = model.evaluate(X_test, y_test)\n",
        "print(f\"Test Accuracy: {test_accuracy:.4f}\")"
      ],
      "metadata": {
        "colab": {
          "base_uri": "https://localhost:8080/"
        },
        "id": "-56C3qJfjQtB",
        "outputId": "dd199a7a-7e34-46f7-e589-a1b764774015"
      },
      "execution_count": null,
      "outputs": [
        {
          "output_type": "stream",
          "name": "stdout",
          "text": [
            "\u001b[1m686/686\u001b[0m \u001b[32m━━━━━━━━━━━━━━━━━━━━\u001b[0m\u001b[37m\u001b[0m \u001b[1m1s\u001b[0m 2ms/step - accuracy: 0.8642 - loss: 0.2664\n",
            "Test Accuracy: 0.8658\n"
          ]
        }
      ]
    },
    {
      "cell_type": "code",
      "source": [
        "y_pred = (model.predict(X_test) > 0.5).astype(\"int32\")"
      ],
      "metadata": {
        "colab": {
          "base_uri": "https://localhost:8080/"
        },
        "id": "rNBFsT98j0ZG",
        "outputId": "5887b54e-e8af-4aca-a7bc-6167f7d81f4a"
      },
      "execution_count": null,
      "outputs": [
        {
          "output_type": "stream",
          "name": "stdout",
          "text": [
            "\u001b[1m686/686\u001b[0m \u001b[32m━━━━━━━━━━━━━━━━━━━━\u001b[0m\u001b[37m\u001b[0m \u001b[1m1s\u001b[0m 1ms/step\n"
          ]
        }
      ]
    },
    {
      "cell_type": "code",
      "source": [
        "print(\"\\nClassification Report:\")\n",
        "print(classification_report(y_test, y_pred))"
      ],
      "metadata": {
        "colab": {
          "base_uri": "https://localhost:8080/"
        },
        "id": "cVz3q5fMj2mu",
        "outputId": "12554ac2-afbd-43f9-e896-446da6ceba64"
      },
      "execution_count": null,
      "outputs": [
        {
          "output_type": "stream",
          "name": "stdout",
          "text": [
            "\n",
            "Classification Report:\n",
            "              precision    recall  f1-score   support\n",
            "\n",
            "           0       0.97      0.80      0.88     13257\n",
            "           1       0.76      0.96      0.85      8670\n",
            "\n",
            "    accuracy                           0.87     21927\n",
            "   macro avg       0.87      0.88      0.86     21927\n",
            "weighted avg       0.89      0.87      0.87     21927\n",
            "\n"
          ]
        }
      ]
    },
    {
      "cell_type": "code",
      "source": [
        "print(f\"Accuracy Score: {accuracy_score(y_test, y_pred):.4f}\")"
      ],
      "metadata": {
        "colab": {
          "base_uri": "https://localhost:8080/"
        },
        "id": "LLMSBo8Cj46U",
        "outputId": "b3b36ab5-2fce-4e54-bce4-4ca85cc6d471"
      },
      "execution_count": null,
      "outputs": [
        {
          "output_type": "stream",
          "name": "stdout",
          "text": [
            "Accuracy Score: 0.8658\n"
          ]
        }
      ]
    },
    {
      "cell_type": "code",
      "source": [
        "single_row_data = {\n",
        "    'pos': 72,\n",
        "    'flw': 210,\n",
        "    'flg': 1400,\n",
        "    'bl': 122,\n",
        "    'pic': 1,\n",
        "    'lin': 0,\n",
        "    'cl': 35,\n",
        "    'cz': 0.055555556,\n",
        "    'ni': 0,\n",
        "    'erl': 12.510000229,\n",
        "    'erc': 0.2599999905,\n",
        "    'lt': 0,\n",
        "    'hc': 0.1669999957,\n",
        "    'pr': 0,\n",
        "    'fo': 1,\n",
        "    'cs': 0.064790003,\n",
        "    'pi': 16.430524826\n",
        "}\n",
        "\n",
        "# Convert the dictionary to a DataFrame\n",
        "single_row_df = pd.DataFrame([single_row_data])\n",
        "\n",
        "# Step 2: Scale the data using the same scaler as during training\n",
        "single_row_scaled = scaler.transform(single_row_df)\n",
        "\n",
        "# Step 3: Make the prediction\n",
        "prediction = model.predict(single_row_scaled)\n",
        "\n",
        "# Since the output is a probability (sigmoid), we threshold it to get the class (0 or 1)\n",
        "predicted_class = (prediction > 0.5).astype(\"int32\")\n",
        "\n",
        "# Output the prediction\n",
        "print(f\"Predicted Class: {predicted_class[0][0]}\")"
      ],
      "metadata": {
        "colab": {
          "base_uri": "https://localhost:8080/"
        },
        "id": "Fea54IUAj82p",
        "outputId": "756ff6f7-712b-4384-c2fd-8cf7e96424e3"
      },
      "execution_count": null,
      "outputs": [
        {
          "output_type": "stream",
          "name": "stdout",
          "text": [
            "\u001b[1m1/1\u001b[0m \u001b[32m━━━━━━━━━━━━━━━━━━━━\u001b[0m\u001b[37m\u001b[0m \u001b[1m0s\u001b[0m 159ms/step\n",
            "Predicted Class: 0\n"
          ]
        }
      ]
    },
    {
      "cell_type": "code",
      "source": [],
      "metadata": {
        "id": "fEMHPhJ3vrD3"
      },
      "execution_count": null,
      "outputs": []
    }
  ]
}